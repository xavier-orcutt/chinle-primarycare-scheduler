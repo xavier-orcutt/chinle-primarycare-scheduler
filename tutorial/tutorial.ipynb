{
 "cells": [
  {
   "cell_type": "markdown",
   "id": "2efb66f2-0be3-4681-a86a-9d31e3735e41",
   "metadata": {},
   "source": [
    "# Chinle Primary Care Scheduler\n",
    "**In this notebook, we'll walk through how to use the scheduler to make the internal medicine scheudle for August 2025.**"
   ]
  },
  {
   "cell_type": "code",
   "execution_count": 1,
   "id": "61c6592e-723d-4ace-a778-7c29d887a378",
   "metadata": {},
   "outputs": [],
   "source": [
    "import sys\n",
    "from pathlib import Path\n",
    "\n",
    "# Add project root (one level up from 'tutorial') to sys.path\n",
    "project_root = Path.cwd().parent\n",
    "if str(project_root) not in sys.path:\n",
    "    sys.path.insert(0, str(project_root))"
   ]
  },
  {
   "cell_type": "code",
   "execution_count": 2,
   "id": "be0b2634-6fc9-4c4f-a001-85f59c2c16fa",
   "metadata": {},
   "outputs": [],
   "source": [
    "import pandas as pd\n",
    "from datetime import date\n",
    "from utils.parser import parse_inputs\n",
    "from utils.calendar import generate_clinic_calendar\n",
    "from constraints.internal_medicine import (\n",
    "    create_shift_variables,\n",
    "    add_leave_constraints,\n",
    "    add_inpatient_block_constraints,\n",
    "    add_rdo_constraints,\n",
    "    add_clinic_count_constraints,\n",
    "    add_min_max_staffing_constraints\n",
    ")\n",
    "from ortools.sat.python import cp_model"
   ]
  },
  {
   "cell_type": "markdown",
   "id": "b1285162-0d94-45fb-9561-fd51afa2a1f5",
   "metadata": {},
   "source": [
    "**The first step is to import and clean the YML file and CSV files.**"
   ]
  },
  {
   "cell_type": "code",
   "execution_count": 3,
   "id": "08d0a228-851f-4abf-a64a-2d7e078764e8",
   "metadata": {},
   "outputs": [],
   "source": [
    "config, leave_df, inpatient_days_df, inpatient_starts_df = parse_inputs('../config/internal_medicine.yml',\n",
    "                                                                        '../data/leave_requests.csv',\n",
    "                                                                        '../data/inpatient.csv')"
   ]
  },
  {
   "cell_type": "markdown",
   "id": "66f2a2a1-9187-4d6e-bc9f-560a654595ed",
   "metadata": {},
   "source": [
    "**Let's inspect the parsed YML file and CSV files.**"
   ]
  },
  {
   "cell_type": "code",
   "execution_count": 4,
   "id": "670bf26c-dc77-4a56-a2c5-0762b6ce3e39",
   "metadata": {},
   "outputs": [
    {
     "data": {
      "text/plain": [
       "{'clinic_days': ['Monday', 'Tuesday', 'Wednesday', 'Thursday', 'Friday'],\n",
       " 'clinic_sessions': {'Monday': ['morning', 'afternoon'],\n",
       "  'Tuesday': ['morning', 'afternoon'],\n",
       "  'Wednesday': ['morning', 'afternoon'],\n",
       "  'Thursday': ['afternoon'],\n",
       "  'Friday': ['morning', 'afternoon']},\n",
       " 'random_day_off': {'eligible_days': ['Monday',\n",
       "   'Tuesday',\n",
       "   'Wednesday',\n",
       "   'Friday']},\n",
       " 'inpatient_schedule': {'inpatient_length': 7,\n",
       "  'inpatient_starts_on': 'Tuesday',\n",
       "  'inpatient_ends_on': 'Monday',\n",
       "  'pre_inpatient_leave': 'Monday',\n",
       "  'post_inpatient_leave': 'Friday'},\n",
       " 'staffing': {'min_providers_per_session': 3, 'max_providers_per_session': 5},\n",
       " 'holiday_dates': [datetime.date(2025, 1, 1),\n",
       "  datetime.date(2025, 1, 20),\n",
       "  datetime.date(2025, 2, 17),\n",
       "  datetime.date(2025, 5, 26),\n",
       "  datetime.date(2025, 6, 19),\n",
       "  datetime.date(2025, 7, 4),\n",
       "  datetime.date(2025, 9, 1),\n",
       "  datetime.date(2025, 10, 13),\n",
       "  datetime.date(2025, 11, 11),\n",
       "  datetime.date(2025, 11, 27),\n",
       "  datetime.date(2025, 12, 25)],\n",
       " 'clinic_intensity_limit': {'enabled': True,\n",
       "  'enforce_ratio_on_short_weeks': True}}"
      ]
     },
     "execution_count": 4,
     "metadata": {},
     "output_type": "execute_result"
    }
   ],
   "source": [
    "config['clinic_rules']"
   ]
  },
  {
   "cell_type": "code",
   "execution_count": 21,
   "id": "6de05665-46cb-48c4-a65c-394022240cf5",
   "metadata": {},
   "outputs": [
    {
     "name": "stdout",
     "output_type": "stream",
     "text": [
      "provider            object\n",
      "date        datetime64[ns]\n",
      "dtype: object\n"
     ]
    },
    {
     "data": {
      "text/html": [
       "<div>\n",
       "<style scoped>\n",
       "    .dataframe tbody tr th:only-of-type {\n",
       "        vertical-align: middle;\n",
       "    }\n",
       "\n",
       "    .dataframe tbody tr th {\n",
       "        vertical-align: top;\n",
       "    }\n",
       "\n",
       "    .dataframe thead th {\n",
       "        text-align: right;\n",
       "    }\n",
       "</style>\n",
       "<table border=\"1\" class=\"dataframe\">\n",
       "  <thead>\n",
       "    <tr style=\"text-align: right;\">\n",
       "      <th></th>\n",
       "      <th>provider</th>\n",
       "      <th>date</th>\n",
       "    </tr>\n",
       "  </thead>\n",
       "  <tbody>\n",
       "    <tr>\n",
       "      <th>0</th>\n",
       "      <td>Orcutt</td>\n",
       "      <td>2025-08-04</td>\n",
       "    </tr>\n",
       "    <tr>\n",
       "      <th>1</th>\n",
       "      <td>Orcutt</td>\n",
       "      <td>2025-08-05</td>\n",
       "    </tr>\n",
       "    <tr>\n",
       "      <th>2</th>\n",
       "      <td>Orcutt</td>\n",
       "      <td>2025-08-06</td>\n",
       "    </tr>\n",
       "    <tr>\n",
       "      <th>3</th>\n",
       "      <td>Orcutt</td>\n",
       "      <td>2025-08-07</td>\n",
       "    </tr>\n",
       "    <tr>\n",
       "      <th>4</th>\n",
       "      <td>Orcutt</td>\n",
       "      <td>2025-08-08</td>\n",
       "    </tr>\n",
       "  </tbody>\n",
       "</table>\n",
       "</div>"
      ],
      "text/plain": [
       "  provider       date\n",
       "0   Orcutt 2025-08-04\n",
       "1   Orcutt 2025-08-05\n",
       "2   Orcutt 2025-08-06\n",
       "3   Orcutt 2025-08-07\n",
       "4   Orcutt 2025-08-08"
      ]
     },
     "execution_count": 21,
     "metadata": {},
     "output_type": "execute_result"
    }
   ],
   "source": [
    "print(leave_df.dtypes)\n",
    "leave_df.head(5)"
   ]
  },
  {
   "cell_type": "code",
   "execution_count": 6,
   "id": "4b75e5c2-9306-4e73-912d-c1a9c616a300",
   "metadata": {},
   "outputs": [
    {
     "data": {
      "text/html": [
       "<div>\n",
       "<style scoped>\n",
       "    .dataframe tbody tr th:only-of-type {\n",
       "        vertical-align: middle;\n",
       "    }\n",
       "\n",
       "    .dataframe tbody tr th {\n",
       "        vertical-align: top;\n",
       "    }\n",
       "\n",
       "    .dataframe thead th {\n",
       "        text-align: right;\n",
       "    }\n",
       "</style>\n",
       "<table border=\"1\" class=\"dataframe\">\n",
       "  <thead>\n",
       "    <tr style=\"text-align: right;\">\n",
       "      <th></th>\n",
       "      <th>provider</th>\n",
       "      <th>date</th>\n",
       "    </tr>\n",
       "  </thead>\n",
       "  <tbody>\n",
       "    <tr>\n",
       "      <th>0</th>\n",
       "      <td>Bornstein</td>\n",
       "      <td>2025-08-05</td>\n",
       "    </tr>\n",
       "    <tr>\n",
       "      <th>1</th>\n",
       "      <td>Bornstein</td>\n",
       "      <td>2025-08-06</td>\n",
       "    </tr>\n",
       "    <tr>\n",
       "      <th>2</th>\n",
       "      <td>Bornstein</td>\n",
       "      <td>2025-08-07</td>\n",
       "    </tr>\n",
       "    <tr>\n",
       "      <th>3</th>\n",
       "      <td>Bornstein</td>\n",
       "      <td>2025-08-08</td>\n",
       "    </tr>\n",
       "    <tr>\n",
       "      <th>4</th>\n",
       "      <td>Bornstein</td>\n",
       "      <td>2025-08-09</td>\n",
       "    </tr>\n",
       "  </tbody>\n",
       "</table>\n",
       "</div>"
      ],
      "text/plain": [
       "    provider       date\n",
       "0  Bornstein 2025-08-05\n",
       "1  Bornstein 2025-08-06\n",
       "2  Bornstein 2025-08-07\n",
       "3  Bornstein 2025-08-08\n",
       "4  Bornstein 2025-08-09"
      ]
     },
     "execution_count": 6,
     "metadata": {},
     "output_type": "execute_result"
    }
   ],
   "source": [
    "print(inpatient_days_df.dtypes)\n",
    "inpatient_days_df.head(5)"
   ]
  },
  {
   "cell_type": "code",
   "execution_count": 7,
   "id": "a01600df-ca6a-46a2-a991-741d47c0584d",
   "metadata": {},
   "outputs": [
    {
     "data": {
      "text/html": [
       "<div>\n",
       "<style scoped>\n",
       "    .dataframe tbody tr th:only-of-type {\n",
       "        vertical-align: middle;\n",
       "    }\n",
       "\n",
       "    .dataframe tbody tr th {\n",
       "        vertical-align: top;\n",
       "    }\n",
       "\n",
       "    .dataframe thead th {\n",
       "        text-align: right;\n",
       "    }\n",
       "</style>\n",
       "<table border=\"1\" class=\"dataframe\">\n",
       "  <thead>\n",
       "    <tr style=\"text-align: right;\">\n",
       "      <th></th>\n",
       "      <th>provider</th>\n",
       "      <th>start_date</th>\n",
       "    </tr>\n",
       "  </thead>\n",
       "  <tbody>\n",
       "    <tr>\n",
       "      <th>0</th>\n",
       "      <td>Bornstein</td>\n",
       "      <td>2025-08-05</td>\n",
       "    </tr>\n",
       "    <tr>\n",
       "      <th>1</th>\n",
       "      <td>Wadlin</td>\n",
       "      <td>2025-08-19</td>\n",
       "    </tr>\n",
       "    <tr>\n",
       "      <th>2</th>\n",
       "      <td>Miles</td>\n",
       "      <td>2025-08-26</td>\n",
       "    </tr>\n",
       "  </tbody>\n",
       "</table>\n",
       "</div>"
      ],
      "text/plain": [
       "    provider start_date\n",
       "0  Bornstein 2025-08-05\n",
       "1     Wadlin 2025-08-19\n",
       "2      Miles 2025-08-26"
      ]
     },
     "execution_count": 7,
     "metadata": {},
     "output_type": "execute_result"
    }
   ],
   "source": [
    "print(inpatient_starts_df.dytypes)\n",
    "inpatient_starts_df.head(5)"
   ]
  },
  {
   "cell_type": "markdown",
   "id": "1a822955-13c6-4e64-a2ac-51f0194d2560",
   "metadata": {},
   "source": [
    "**The files look well formated and have the correct data types. Let's build our calendar for August 2025. This will only include valid clinic days (ie., not federal holidays) and valid sessions (ie., no Thursday morning).**"
   ]
  },
  {
   "cell_type": "code",
   "execution_count": 8,
   "id": "b162a8b0-7f65-4e30-b8a2-10084f1827ae",
   "metadata": {},
   "outputs": [],
   "source": [
    "calendar = generate_clinic_calendar(date(2025, 8, 4), \n",
    "                                    date(2025, 8, 29), \n",
    "                                    config['clinic_rules'])"
   ]
  },
  {
   "cell_type": "code",
   "execution_count": 9,
   "id": "844027d0-cad2-4935-8260-da8cf949ebb9",
   "metadata": {},
   "outputs": [
    {
     "data": {
      "text/plain": [
       "{datetime.date(2025, 8, 4): ['morning', 'afternoon'],\n",
       " datetime.date(2025, 8, 5): ['morning', 'afternoon'],\n",
       " datetime.date(2025, 8, 6): ['morning', 'afternoon'],\n",
       " datetime.date(2025, 8, 7): ['afternoon'],\n",
       " datetime.date(2025, 8, 8): ['morning', 'afternoon'],\n",
       " datetime.date(2025, 8, 11): ['morning', 'afternoon'],\n",
       " datetime.date(2025, 8, 12): ['morning', 'afternoon'],\n",
       " datetime.date(2025, 8, 13): ['morning', 'afternoon'],\n",
       " datetime.date(2025, 8, 14): ['afternoon'],\n",
       " datetime.date(2025, 8, 15): ['morning', 'afternoon'],\n",
       " datetime.date(2025, 8, 18): ['morning', 'afternoon'],\n",
       " datetime.date(2025, 8, 19): ['morning', 'afternoon'],\n",
       " datetime.date(2025, 8, 20): ['morning', 'afternoon'],\n",
       " datetime.date(2025, 8, 21): ['afternoon'],\n",
       " datetime.date(2025, 8, 22): ['morning', 'afternoon'],\n",
       " datetime.date(2025, 8, 25): ['morning', 'afternoon'],\n",
       " datetime.date(2025, 8, 26): ['morning', 'afternoon'],\n",
       " datetime.date(2025, 8, 27): ['morning', 'afternoon'],\n",
       " datetime.date(2025, 8, 28): ['afternoon'],\n",
       " datetime.date(2025, 8, 29): ['morning', 'afternoon']}"
      ]
     },
     "execution_count": 9,
     "metadata": {},
     "output_type": "execute_result"
    }
   ],
   "source": [
    "# Here are all the possible clinic sessions that a provider could work in August. \n",
    "calendar"
   ]
  },
  {
   "cell_type": "markdown",
   "id": "6e49e746-da21-4960-8b5a-33bbe50d17df",
   "metadata": {},
   "source": [
    "**We're ready to instantiate a new instance of the CpModel class from the OR-Tools library. The variable model now holds a specific, usable object that we will shortly add constraints to. We'll also create a dictionary that holds a binary decision variable for each provider for each date, and for each session based on the above August 2025 calendar.**"
   ]
  },
  {
   "cell_type": "code",
   "execution_count": 10,
   "id": "b1722235-d4bc-44d4-9323-eac60ae5aff7",
   "metadata": {},
   "outputs": [],
   "source": [
    "model = cp_model.CpModel()\n",
    "shift_vars = create_shift_variables(model, list(config['providers'].keys()), calendar)"
   ]
  },
  {
   "cell_type": "code",
   "execution_count": 11,
   "id": "7b7397a6-d855-4d37-b6bb-e04068b2da8b",
   "metadata": {},
   "outputs": [
    {
     "data": {
      "text/plain": [
       "{datetime.date(2025, 8, 4): {'morning': Orcutt_2025-08-04_morning(0..1),\n",
       "  'afternoon': Orcutt_2025-08-04_afternoon(0..1)},\n",
       " datetime.date(2025, 8, 5): {'morning': Orcutt_2025-08-05_morning(0..1),\n",
       "  'afternoon': Orcutt_2025-08-05_afternoon(0..1)},\n",
       " datetime.date(2025, 8, 6): {'morning': Orcutt_2025-08-06_morning(0..1),\n",
       "  'afternoon': Orcutt_2025-08-06_afternoon(0..1)},\n",
       " datetime.date(2025, 8, 7): {'afternoon': Orcutt_2025-08-07_afternoon(0..1)},\n",
       " datetime.date(2025, 8, 8): {'morning': Orcutt_2025-08-08_morning(0..1),\n",
       "  'afternoon': Orcutt_2025-08-08_afternoon(0..1)},\n",
       " datetime.date(2025, 8, 11): {'morning': Orcutt_2025-08-11_morning(0..1),\n",
       "  'afternoon': Orcutt_2025-08-11_afternoon(0..1)},\n",
       " datetime.date(2025, 8, 12): {'morning': Orcutt_2025-08-12_morning(0..1),\n",
       "  'afternoon': Orcutt_2025-08-12_afternoon(0..1)},\n",
       " datetime.date(2025, 8, 13): {'morning': Orcutt_2025-08-13_morning(0..1),\n",
       "  'afternoon': Orcutt_2025-08-13_afternoon(0..1)},\n",
       " datetime.date(2025, 8, 14): {'afternoon': Orcutt_2025-08-14_afternoon(0..1)},\n",
       " datetime.date(2025, 8, 15): {'morning': Orcutt_2025-08-15_morning(0..1),\n",
       "  'afternoon': Orcutt_2025-08-15_afternoon(0..1)},\n",
       " datetime.date(2025, 8, 18): {'morning': Orcutt_2025-08-18_morning(0..1),\n",
       "  'afternoon': Orcutt_2025-08-18_afternoon(0..1)},\n",
       " datetime.date(2025, 8, 19): {'morning': Orcutt_2025-08-19_morning(0..1),\n",
       "  'afternoon': Orcutt_2025-08-19_afternoon(0..1)},\n",
       " datetime.date(2025, 8, 20): {'morning': Orcutt_2025-08-20_morning(0..1),\n",
       "  'afternoon': Orcutt_2025-08-20_afternoon(0..1)},\n",
       " datetime.date(2025, 8, 21): {'afternoon': Orcutt_2025-08-21_afternoon(0..1)},\n",
       " datetime.date(2025, 8, 22): {'morning': Orcutt_2025-08-22_morning(0..1),\n",
       "  'afternoon': Orcutt_2025-08-22_afternoon(0..1)},\n",
       " datetime.date(2025, 8, 25): {'morning': Orcutt_2025-08-25_morning(0..1),\n",
       "  'afternoon': Orcutt_2025-08-25_afternoon(0..1)},\n",
       " datetime.date(2025, 8, 26): {'morning': Orcutt_2025-08-26_morning(0..1),\n",
       "  'afternoon': Orcutt_2025-08-26_afternoon(0..1)},\n",
       " datetime.date(2025, 8, 27): {'morning': Orcutt_2025-08-27_morning(0..1),\n",
       "  'afternoon': Orcutt_2025-08-27_afternoon(0..1)},\n",
       " datetime.date(2025, 8, 28): {'afternoon': Orcutt_2025-08-28_afternoon(0..1)},\n",
       " datetime.date(2025, 8, 29): {'morning': Orcutt_2025-08-29_morning(0..1),\n",
       "  'afternoon': Orcutt_2025-08-29_afternoon(0..1)}}"
      ]
     },
     "execution_count": 11,
     "metadata": {},
     "output_type": "execute_result"
    }
   ],
   "source": [
    "# For each possible clinic session in August 2025, there's a binary decision variable (0 or 1) that will be solved by the model\n",
    "shift_vars['Orcutt']"
   ]
  },
  {
   "cell_type": "markdown",
   "id": "434e414e-cfae-4c62-bc41-2c98cc43afb0",
   "metadata": {},
   "source": [
    "**Now we add the constraints.**"
   ]
  },
  {
   "cell_type": "code",
   "execution_count": 12,
   "id": "706c30ab-fffb-42d7-b626-7bbb1e6acde7",
   "metadata": {},
   "outputs": [],
   "source": [
    "objective_terms = []"
   ]
  },
  {
   "cell_type": "code",
   "execution_count": 13,
   "id": "bbb7d796-37c2-4ab1-9623-686db7291311",
   "metadata": {},
   "outputs": [],
   "source": [
    "add_leave_constraints(model, shift_vars, leave_df)\n",
    "add_inpatient_block_constraints(model, shift_vars, inpatient_starts_df, inpatient_days_df)\n",
    "add_clinic_count_constraints(model, shift_vars, config['providers'], inpatient_starts_df)\n",
    "add_rdo_constraints(model, shift_vars, leave_df, inpatient_days_df, config['clinic_rules'], config['providers'])\n",
    "add_min_max_staffing_constraints(model, shift_vars, calendar, config['clinic_rules'])"
   ]
  },
  {
   "cell_type": "code",
   "execution_count": 14,
   "id": "2820b729-5738-40cd-9620-a900009e6cb0",
   "metadata": {},
   "outputs": [],
   "source": [
    "objective_terms.extend(add_clinic_count_constraints(model, shift_vars, config['providers'], inpatient_starts_df))"
   ]
  },
  {
   "cell_type": "code",
   "execution_count": 15,
   "id": "f782f35b-74de-4bfe-95c5-eb54dcb77474",
   "metadata": {},
   "outputs": [],
   "source": [
    "if objective_terms:\n",
    "    model.Minimize(sum(objective_terms))"
   ]
  },
  {
   "cell_type": "markdown",
   "id": "ec4e0501-185b-471b-b79b-d67ac1d5850f",
   "metadata": {},
   "source": [
    "**Finally we solve the model and print the output.**"
   ]
  },
  {
   "cell_type": "code",
   "execution_count": 16,
   "id": "78c7ba18-9515-4463-b83f-ff5acee2ca3e",
   "metadata": {},
   "outputs": [],
   "source": [
    "solver = cp_model.CpSolver()\n",
    "\n",
    "# Set random seed for reproducibility\n",
    "solver.parameters.random_seed = 42\n",
    "\n",
    "status = solver.Solve(model)\n",
    "solver_wall_time = solver.wall_time"
   ]
  },
  {
   "cell_type": "code",
   "execution_count": 17,
   "id": "5db32f96-9dd0-4cb4-b32b-ea48cc5fa3bb",
   "metadata": {},
   "outputs": [
    {
     "name": "stdout",
     "output_type": "stream",
     "text": [
      "Solution found in 0.000013 seconds\n",
      "2025-08-04 Monday morning: staffed by ['Mccrae', 'Miles', 'Selig']\n",
      "2025-08-04 Monday afternoon: staffed by ['Bornstein', 'Mccrae', 'Selig']\n",
      "2025-08-05 Tuesday morning: staffed by ['Mccrae', 'Stewart', 'Tanay']\n",
      "2025-08-05 Tuesday afternoon: staffed by ['Mccrae', 'Miles', 'Tanay']\n",
      "2025-08-06 Wednesday morning: staffed by ['Selig', 'Stewart', 'Tanay']\n",
      "2025-08-06 Wednesday afternoon: staffed by ['Miles', 'Selig', 'Tanay']\n",
      "2025-08-07 Thursday afternoon: staffed by ['Bornstein', 'Selig', 'Tanay']\n",
      "2025-08-08 Friday morning: staffed by ['Bornstein', 'Mccrae', 'Stewart']\n",
      "2025-08-08 Friday afternoon: staffed by ['Bornstein', 'Mccrae', 'Selig']\n",
      "2025-08-11 Monday morning: staffed by ['Bornstein', 'Miles', 'Selig']\n",
      "2025-08-11 Monday afternoon: staffed by ['Bornstein', 'Miles', 'Selig']\n",
      "2025-08-12 Tuesday morning: staffed by ['Stewart', 'Tanay', 'Wadlin']\n",
      "2025-08-12 Tuesday afternoon: staffed by ['Stewart', 'Tanay', 'Wadlin']\n",
      "2025-08-13 Wednesday morning: staffed by ['Mccrae', 'Stewart', 'Tanay', 'Wadlin']\n",
      "2025-08-13 Wednesday afternoon: staffed by ['Mccrae', 'Selig', 'Tanay']\n",
      "2025-08-14 Thursday afternoon: staffed by ['Mccrae', 'Miles', 'Selig']\n",
      "2025-08-15 Friday morning: staffed by ['Mccrae', 'Tanay', 'Wadlin']\n",
      "2025-08-15 Friday afternoon: staffed by ['Mccrae', 'Selig', 'Stewart']\n",
      "2025-08-18 Monday morning: staffed by ['Mccrae', 'Selig', 'Wadlin']\n",
      "2025-08-18 Monday afternoon: staffed by ['Mccrae', 'Selig', 'Wadlin']\n",
      "2025-08-19 Tuesday morning: staffed by ['Stewart', 'Tanay', 'Wadlin']\n",
      "2025-08-19 Tuesday afternoon: staffed by ['Bornstein', 'Tanay', 'Wadlin']\n",
      "2025-08-20 Wednesday morning: staffed by ['Selig', 'Stewart', 'Tanay']\n",
      "2025-08-20 Wednesday afternoon: staffed by ['Bornstein', 'Mccrae', 'Tanay']\n",
      "2025-08-21 Thursday afternoon: staffed by ['Bornstein', 'Mccrae', 'Selig']\n",
      "2025-08-22 Friday morning: staffed by ['Mccrae', 'Stewart', 'Tanay']\n",
      "2025-08-22 Friday afternoon: staffed by ['Bornstein', 'Mccrae', 'Selig']\n",
      "2025-08-25 Monday morning: staffed by ['Mccrae', 'Miles', 'Wadlin']\n",
      "2025-08-25 Monday afternoon: staffed by ['Mccrae', 'Miles', 'Wadlin']\n",
      "2025-08-26 Tuesday morning: staffed by ['Selig', 'Stewart', 'Tanay']\n",
      "2025-08-26 Tuesday afternoon: staffed by ['Bornstein', 'Selig', 'Tanay']\n",
      "2025-08-27 Wednesday morning: staffed by ['Selig', 'Stewart', 'Tanay']\n",
      "2025-08-27 Wednesday afternoon: staffed by ['Bornstein', 'Mccrae', 'Tanay']\n",
      "2025-08-28 Thursday afternoon: staffed by ['Bornstein', 'Mccrae', 'Selig']\n",
      "2025-08-29 Friday morning: staffed by ['Selig', 'Stewart', 'Tanay']\n",
      "2025-08-29 Friday afternoon: staffed by ['Bornstein', 'Mccrae', 'Miles']\n"
     ]
    }
   ],
   "source": [
    "if status in [cp_model.OPTIMAL, cp_model.FEASIBLE]:\n",
    "    print(f\"Solution found in {solver_wall_time/1000:.6f} seconds\") # Convert from ms to seconds\n",
    "    for day in calendar:\n",
    "        day_of_week = day.strftime('%A')\n",
    "        for session in calendar[day]:\n",
    "            scheduled = [\n",
    "                provider for provider in shift_vars\n",
    "                if day in shift_vars[provider]\n",
    "                and session in shift_vars[provider][day]\n",
    "                and solver.Value(shift_vars[provider][day][session]) == 1\n",
    "            ]\n",
    "            print(f\"{day} {day_of_week} {session}: staffed by {scheduled}\")\n",
    "else:\n",
    "    print(\"No feasible solution found.\")"
   ]
  },
  {
   "cell_type": "markdown",
   "id": "d773e92d-a998-44d1-9d56-5d35feefc1cf",
   "metadata": {},
   "source": [
    "**A clinic schedule for August 2025 was successfully generated that satisfies all constraints. The schedule accommodates approved leave requests while maintaining a minimum staffing level of 3 providers per session. Each provider receives their appropriate number of clinic sessions per week, with reduced sessions following inpatient service weeks. RDOs were assigned according to provider preferences where possible, avoiding weeks with inpatient duties or leave.**"
   ]
  }
 ],
 "metadata": {
  "kernelspec": {
   "display_name": "Python 3 (ipykernel)",
   "language": "python",
   "name": "python3"
  },
  "language_info": {
   "codemirror_mode": {
    "name": "ipython",
    "version": 3
   },
   "file_extension": ".py",
   "mimetype": "text/x-python",
   "name": "python",
   "nbconvert_exporter": "python",
   "pygments_lexer": "ipython3",
   "version": "3.13.1"
  }
 },
 "nbformat": 4,
 "nbformat_minor": 5
}
