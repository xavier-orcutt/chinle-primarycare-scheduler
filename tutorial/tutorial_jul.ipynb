{
 "cells": [
  {
   "cell_type": "markdown",
   "id": "2efb66f2-0be3-4681-a86a-9d31e3735e41",
   "metadata": {},
   "source": [
    "# Chinle Primary Care Scheduler\n",
    "**In this notebook, we'll demonstrate how to create an internal medicine schedule for August 2025.**"
   ]
  },
  {
   "cell_type": "code",
   "execution_count": 1,
   "id": "61c6592e-723d-4ace-a778-7c29d887a378",
   "metadata": {},
   "outputs": [],
   "source": [
    "import sys\n",
    "from pathlib import Path\n",
    "\n",
    "# Add project root (one level up from 'tutorial') to sys.path\n",
    "project_root = Path.cwd().parent\n",
    "if str(project_root) not in sys.path:\n",
    "    sys.path.insert(0, str(project_root))"
   ]
  },
  {
   "cell_type": "code",
   "execution_count": 2,
   "id": "be0b2634-6fc9-4c4f-a001-85f59c2c16fa",
   "metadata": {},
   "outputs": [],
   "source": [
    "import pandas as pd\n",
    "from datetime import date\n",
    "from utils.parser import parse_inputs\n",
    "from utils.calendar import generate_clinic_calendar\n",
    "from constraints.internal_medicine import (\n",
    "    create_shift_variables,\n",
    "    add_leave_constraints,\n",
    "    add_inpatient_block_constraints,\n",
    "    add_rdo_constraints,\n",
    "    add_clinic_count_constraints,\n",
    "    add_min_max_staffing_constraints\n",
    ")\n",
    "from ortools.sat.python import cp_model"
   ]
  },
  {
   "cell_type": "markdown",
   "id": "b1285162-0d94-45fb-9561-fd51afa2a1f5",
   "metadata": {},
   "source": [
    "**First, we'll import and prepare the YML and CSV files for processing.**"
   ]
  },
  {
   "cell_type": "code",
   "execution_count": 3,
   "id": "08d0a228-851f-4abf-a64a-2d7e078764e8",
   "metadata": {},
   "outputs": [],
   "source": [
    "config, leave_df, inpatient_days_df, inpatient_starts_df = parse_inputs('../config/internal_medicine.yml',\n",
    "                                                                        '../data/leave_requests_july.csv',\n",
    "                                                                        '../data/inpatient_july.csv')"
   ]
  },
  {
   "cell_type": "markdown",
   "id": "66f2a2a1-9187-4d6e-bc9f-560a654595ed",
   "metadata": {},
   "source": [
    "**Let's examine the parsed YML and CSV data to ensure everything is properly loaded.**"
   ]
  },
  {
   "cell_type": "code",
   "execution_count": 4,
   "id": "670bf26c-dc77-4a56-a2c5-0762b6ce3e39",
   "metadata": {},
   "outputs": [
    {
     "data": {
      "text/plain": [
       "{'clinic_days': ['Monday', 'Tuesday', 'Wednesday', 'Thursday', 'Friday'],\n",
       " 'clinic_sessions': {'Monday': ['morning', 'afternoon'],\n",
       "  'Tuesday': ['morning', 'afternoon'],\n",
       "  'Wednesday': ['morning', 'afternoon'],\n",
       "  'Thursday': ['afternoon'],\n",
       "  'Friday': ['morning', 'afternoon']},\n",
       " 'random_day_off': {'eligible_days': ['Monday',\n",
       "   'Tuesday',\n",
       "   'Wednesday',\n",
       "   'Friday']},\n",
       " 'inpatient_schedule': {'inpatient_length': 7,\n",
       "  'inpatient_starts_on': 'Tuesday',\n",
       "  'inpatient_ends_on': 'Monday',\n",
       "  'pre_inpatient_leave': 'Monday',\n",
       "  'post_inpatient_leave': 'Friday'},\n",
       " 'staffing': {'min_providers_per_session': 3, 'max_providers_per_session': 5},\n",
       " 'holiday_dates': [datetime.date(2025, 1, 1),\n",
       "  datetime.date(2025, 1, 20),\n",
       "  datetime.date(2025, 2, 17),\n",
       "  datetime.date(2025, 5, 26),\n",
       "  datetime.date(2025, 6, 19),\n",
       "  datetime.date(2025, 7, 4),\n",
       "  datetime.date(2025, 9, 1),\n",
       "  datetime.date(2025, 10, 13),\n",
       "  datetime.date(2025, 11, 11),\n",
       "  datetime.date(2025, 11, 27),\n",
       "  datetime.date(2025, 12, 25)],\n",
       " 'clinic_intensity_limit': {'enabled': True,\n",
       "  'enforce_ratio_on_short_weeks': True}}"
      ]
     },
     "execution_count": 4,
     "metadata": {},
     "output_type": "execute_result"
    }
   ],
   "source": [
    "config['clinic_rules']"
   ]
  },
  {
   "cell_type": "code",
   "execution_count": 5,
   "id": "6de05665-46cb-48c4-a65c-394022240cf5",
   "metadata": {},
   "outputs": [
    {
     "name": "stdout",
     "output_type": "stream",
     "text": [
      "provider            object\n",
      "date        datetime64[ns]\n",
      "dtype: object\n"
     ]
    },
    {
     "data": {
      "text/html": [
       "<div>\n",
       "<style scoped>\n",
       "    .dataframe tbody tr th:only-of-type {\n",
       "        vertical-align: middle;\n",
       "    }\n",
       "\n",
       "    .dataframe tbody tr th {\n",
       "        vertical-align: top;\n",
       "    }\n",
       "\n",
       "    .dataframe thead th {\n",
       "        text-align: right;\n",
       "    }\n",
       "</style>\n",
       "<table border=\"1\" class=\"dataframe\">\n",
       "  <thead>\n",
       "    <tr style=\"text-align: right;\">\n",
       "      <th></th>\n",
       "      <th>provider</th>\n",
       "      <th>date</th>\n",
       "    </tr>\n",
       "  </thead>\n",
       "  <tbody>\n",
       "    <tr>\n",
       "      <th>0</th>\n",
       "      <td>Selig</td>\n",
       "      <td>2025-06-30</td>\n",
       "    </tr>\n",
       "    <tr>\n",
       "      <th>1</th>\n",
       "      <td>Selig</td>\n",
       "      <td>2025-07-01</td>\n",
       "    </tr>\n",
       "    <tr>\n",
       "      <th>2</th>\n",
       "      <td>Selig</td>\n",
       "      <td>2025-07-02</td>\n",
       "    </tr>\n",
       "    <tr>\n",
       "      <th>3</th>\n",
       "      <td>Selig</td>\n",
       "      <td>2025-07-03</td>\n",
       "    </tr>\n",
       "    <tr>\n",
       "      <th>4</th>\n",
       "      <td>Selig</td>\n",
       "      <td>2025-07-07</td>\n",
       "    </tr>\n",
       "  </tbody>\n",
       "</table>\n",
       "</div>"
      ],
      "text/plain": [
       "  provider       date\n",
       "0    Selig 2025-06-30\n",
       "1    Selig 2025-07-01\n",
       "2    Selig 2025-07-02\n",
       "3    Selig 2025-07-03\n",
       "4    Selig 2025-07-07"
      ]
     },
     "execution_count": 5,
     "metadata": {},
     "output_type": "execute_result"
    }
   ],
   "source": [
    "print(leave_df.dtypes)\n",
    "leave_df.head(5)"
   ]
  },
  {
   "cell_type": "code",
   "execution_count": 6,
   "id": "4b75e5c2-9306-4e73-912d-c1a9c616a300",
   "metadata": {},
   "outputs": [
    {
     "name": "stdout",
     "output_type": "stream",
     "text": [
      "provider            object\n",
      "date        datetime64[ns]\n",
      "dtype: object\n"
     ]
    },
    {
     "data": {
      "text/html": [
       "<div>\n",
       "<style scoped>\n",
       "    .dataframe tbody tr th:only-of-type {\n",
       "        vertical-align: middle;\n",
       "    }\n",
       "\n",
       "    .dataframe tbody tr th {\n",
       "        vertical-align: top;\n",
       "    }\n",
       "\n",
       "    .dataframe thead th {\n",
       "        text-align: right;\n",
       "    }\n",
       "</style>\n",
       "<table border=\"1\" class=\"dataframe\">\n",
       "  <thead>\n",
       "    <tr style=\"text-align: right;\">\n",
       "      <th></th>\n",
       "      <th>provider</th>\n",
       "      <th>date</th>\n",
       "    </tr>\n",
       "  </thead>\n",
       "  <tbody>\n",
       "    <tr>\n",
       "      <th>0</th>\n",
       "      <td>Orcutt</td>\n",
       "      <td>2025-07-01</td>\n",
       "    </tr>\n",
       "    <tr>\n",
       "      <th>1</th>\n",
       "      <td>Orcutt</td>\n",
       "      <td>2025-07-02</td>\n",
       "    </tr>\n",
       "    <tr>\n",
       "      <th>2</th>\n",
       "      <td>Orcutt</td>\n",
       "      <td>2025-07-03</td>\n",
       "    </tr>\n",
       "    <tr>\n",
       "      <th>3</th>\n",
       "      <td>Orcutt</td>\n",
       "      <td>2025-07-04</td>\n",
       "    </tr>\n",
       "    <tr>\n",
       "      <th>4</th>\n",
       "      <td>Orcutt</td>\n",
       "      <td>2025-07-05</td>\n",
       "    </tr>\n",
       "  </tbody>\n",
       "</table>\n",
       "</div>"
      ],
      "text/plain": [
       "  provider       date\n",
       "0   Orcutt 2025-07-01\n",
       "1   Orcutt 2025-07-02\n",
       "2   Orcutt 2025-07-03\n",
       "3   Orcutt 2025-07-04\n",
       "4   Orcutt 2025-07-05"
      ]
     },
     "execution_count": 6,
     "metadata": {},
     "output_type": "execute_result"
    }
   ],
   "source": [
    "print(inpatient_days_df.dtypes)\n",
    "inpatient_days_df.head(5)"
   ]
  },
  {
   "cell_type": "code",
   "execution_count": 7,
   "id": "a01600df-ca6a-46a2-a991-741d47c0584d",
   "metadata": {},
   "outputs": [
    {
     "name": "stdout",
     "output_type": "stream",
     "text": [
      "provider              object\n",
      "start_date    datetime64[ns]\n",
      "dtype: object\n"
     ]
    },
    {
     "data": {
      "text/html": [
       "<div>\n",
       "<style scoped>\n",
       "    .dataframe tbody tr th:only-of-type {\n",
       "        vertical-align: middle;\n",
       "    }\n",
       "\n",
       "    .dataframe tbody tr th {\n",
       "        vertical-align: top;\n",
       "    }\n",
       "\n",
       "    .dataframe thead th {\n",
       "        text-align: right;\n",
       "    }\n",
       "</style>\n",
       "<table border=\"1\" class=\"dataframe\">\n",
       "  <thead>\n",
       "    <tr style=\"text-align: right;\">\n",
       "      <th></th>\n",
       "      <th>provider</th>\n",
       "      <th>start_date</th>\n",
       "    </tr>\n",
       "  </thead>\n",
       "  <tbody>\n",
       "    <tr>\n",
       "      <th>0</th>\n",
       "      <td>Orcutt</td>\n",
       "      <td>2025-07-01</td>\n",
       "    </tr>\n",
       "    <tr>\n",
       "      <th>1</th>\n",
       "      <td>Bornstein</td>\n",
       "      <td>2025-07-01</td>\n",
       "    </tr>\n",
       "    <tr>\n",
       "      <th>2</th>\n",
       "      <td>Orcutt</td>\n",
       "      <td>2025-07-22</td>\n",
       "    </tr>\n",
       "  </tbody>\n",
       "</table>\n",
       "</div>"
      ],
      "text/plain": [
       "    provider start_date\n",
       "0     Orcutt 2025-07-01\n",
       "1  Bornstein 2025-07-01\n",
       "2     Orcutt 2025-07-22"
      ]
     },
     "execution_count": 7,
     "metadata": {},
     "output_type": "execute_result"
    }
   ],
   "source": [
    "print(inpatient_starts_df.dtypes)\n",
    "inpatient_starts_df.head(5)"
   ]
  },
  {
   "cell_type": "markdown",
   "id": "1a822955-13c6-4e64-a2ac-51f0194d2560",
   "metadata": {},
   "source": [
    "**The files are correctly formatted with appropriate data types. Now we'll construct our August 2025 calendar, including only valid clinic days (excluding federal holidays) and available sessions (noting there are no Thursday morning sessions).**"
   ]
  },
  {
   "cell_type": "code",
   "execution_count": 8,
   "id": "b162a8b0-7f65-4e30-b8a2-10084f1827ae",
   "metadata": {},
   "outputs": [],
   "source": [
    "calendar = generate_clinic_calendar(date(2025, 6, 30), \n",
    "                                    date(2025, 8, 1), \n",
    "                                    config['clinic_rules'])"
   ]
  },
  {
   "cell_type": "code",
   "execution_count": 9,
   "id": "844027d0-cad2-4935-8260-da8cf949ebb9",
   "metadata": {},
   "outputs": [
    {
     "data": {
      "text/plain": [
       "{datetime.date(2025, 6, 30): ['morning', 'afternoon'],\n",
       " datetime.date(2025, 7, 1): ['morning', 'afternoon'],\n",
       " datetime.date(2025, 7, 2): ['morning', 'afternoon'],\n",
       " datetime.date(2025, 7, 3): ['afternoon'],\n",
       " datetime.date(2025, 7, 7): ['morning', 'afternoon'],\n",
       " datetime.date(2025, 7, 8): ['morning', 'afternoon'],\n",
       " datetime.date(2025, 7, 9): ['morning', 'afternoon'],\n",
       " datetime.date(2025, 7, 10): ['afternoon'],\n",
       " datetime.date(2025, 7, 11): ['morning', 'afternoon'],\n",
       " datetime.date(2025, 7, 14): ['morning', 'afternoon'],\n",
       " datetime.date(2025, 7, 15): ['morning', 'afternoon'],\n",
       " datetime.date(2025, 7, 16): ['morning', 'afternoon'],\n",
       " datetime.date(2025, 7, 17): ['afternoon'],\n",
       " datetime.date(2025, 7, 18): ['morning', 'afternoon'],\n",
       " datetime.date(2025, 7, 21): ['morning', 'afternoon'],\n",
       " datetime.date(2025, 7, 22): ['morning', 'afternoon'],\n",
       " datetime.date(2025, 7, 23): ['morning', 'afternoon'],\n",
       " datetime.date(2025, 7, 24): ['afternoon'],\n",
       " datetime.date(2025, 7, 25): ['morning', 'afternoon'],\n",
       " datetime.date(2025, 7, 28): ['morning', 'afternoon'],\n",
       " datetime.date(2025, 7, 29): ['morning', 'afternoon'],\n",
       " datetime.date(2025, 7, 30): ['morning', 'afternoon'],\n",
       " datetime.date(2025, 7, 31): ['afternoon'],\n",
       " datetime.date(2025, 8, 1): ['morning', 'afternoon']}"
      ]
     },
     "execution_count": 9,
     "metadata": {},
     "output_type": "execute_result"
    }
   ],
   "source": [
    "# Here are all the possible clinic sessions that a provider could work in August. \n",
    "calendar"
   ]
  },
  {
   "cell_type": "markdown",
   "id": "6e49e746-da21-4960-8b5a-33bbe50d17df",
   "metadata": {},
   "source": [
    "**Next, we'll create a new CpModel instance from the OR-Tools library. This model object will store our scheduling constraints. We'll also generate a dictionary of binary decision variables for each provider, date, and session based on our August 2025 calendar.**"
   ]
  },
  {
   "cell_type": "code",
   "execution_count": 10,
   "id": "b1722235-d4bc-44d4-9323-eac60ae5aff7",
   "metadata": {},
   "outputs": [],
   "source": [
    "model = cp_model.CpModel()\n",
    "shift_vars = create_shift_variables(model, list(config['providers'].keys()), calendar)"
   ]
  },
  {
   "cell_type": "code",
   "execution_count": 11,
   "id": "7b7397a6-d855-4d37-b6bb-e04068b2da8b",
   "metadata": {},
   "outputs": [
    {
     "data": {
      "text/plain": [
       "{datetime.date(2025, 6, 30): {'morning': Orcutt_2025-06-30_morning(0..1),\n",
       "  'afternoon': Orcutt_2025-06-30_afternoon(0..1)},\n",
       " datetime.date(2025, 7, 1): {'morning': Orcutt_2025-07-01_morning(0..1),\n",
       "  'afternoon': Orcutt_2025-07-01_afternoon(0..1)},\n",
       " datetime.date(2025, 7, 2): {'morning': Orcutt_2025-07-02_morning(0..1),\n",
       "  'afternoon': Orcutt_2025-07-02_afternoon(0..1)},\n",
       " datetime.date(2025, 7, 3): {'afternoon': Orcutt_2025-07-03_afternoon(0..1)},\n",
       " datetime.date(2025, 7, 7): {'morning': Orcutt_2025-07-07_morning(0..1),\n",
       "  'afternoon': Orcutt_2025-07-07_afternoon(0..1)},\n",
       " datetime.date(2025, 7, 8): {'morning': Orcutt_2025-07-08_morning(0..1),\n",
       "  'afternoon': Orcutt_2025-07-08_afternoon(0..1)},\n",
       " datetime.date(2025, 7, 9): {'morning': Orcutt_2025-07-09_morning(0..1),\n",
       "  'afternoon': Orcutt_2025-07-09_afternoon(0..1)},\n",
       " datetime.date(2025, 7, 10): {'afternoon': Orcutt_2025-07-10_afternoon(0..1)},\n",
       " datetime.date(2025, 7, 11): {'morning': Orcutt_2025-07-11_morning(0..1),\n",
       "  'afternoon': Orcutt_2025-07-11_afternoon(0..1)},\n",
       " datetime.date(2025, 7, 14): {'morning': Orcutt_2025-07-14_morning(0..1),\n",
       "  'afternoon': Orcutt_2025-07-14_afternoon(0..1)},\n",
       " datetime.date(2025, 7, 15): {'morning': Orcutt_2025-07-15_morning(0..1),\n",
       "  'afternoon': Orcutt_2025-07-15_afternoon(0..1)},\n",
       " datetime.date(2025, 7, 16): {'morning': Orcutt_2025-07-16_morning(0..1),\n",
       "  'afternoon': Orcutt_2025-07-16_afternoon(0..1)},\n",
       " datetime.date(2025, 7, 17): {'afternoon': Orcutt_2025-07-17_afternoon(0..1)},\n",
       " datetime.date(2025, 7, 18): {'morning': Orcutt_2025-07-18_morning(0..1),\n",
       "  'afternoon': Orcutt_2025-07-18_afternoon(0..1)},\n",
       " datetime.date(2025, 7, 21): {'morning': Orcutt_2025-07-21_morning(0..1),\n",
       "  'afternoon': Orcutt_2025-07-21_afternoon(0..1)},\n",
       " datetime.date(2025, 7, 22): {'morning': Orcutt_2025-07-22_morning(0..1),\n",
       "  'afternoon': Orcutt_2025-07-22_afternoon(0..1)},\n",
       " datetime.date(2025, 7, 23): {'morning': Orcutt_2025-07-23_morning(0..1),\n",
       "  'afternoon': Orcutt_2025-07-23_afternoon(0..1)},\n",
       " datetime.date(2025, 7, 24): {'afternoon': Orcutt_2025-07-24_afternoon(0..1)},\n",
       " datetime.date(2025, 7, 25): {'morning': Orcutt_2025-07-25_morning(0..1),\n",
       "  'afternoon': Orcutt_2025-07-25_afternoon(0..1)},\n",
       " datetime.date(2025, 7, 28): {'morning': Orcutt_2025-07-28_morning(0..1),\n",
       "  'afternoon': Orcutt_2025-07-28_afternoon(0..1)},\n",
       " datetime.date(2025, 7, 29): {'morning': Orcutt_2025-07-29_morning(0..1),\n",
       "  'afternoon': Orcutt_2025-07-29_afternoon(0..1)},\n",
       " datetime.date(2025, 7, 30): {'morning': Orcutt_2025-07-30_morning(0..1),\n",
       "  'afternoon': Orcutt_2025-07-30_afternoon(0..1)},\n",
       " datetime.date(2025, 7, 31): {'afternoon': Orcutt_2025-07-31_afternoon(0..1)},\n",
       " datetime.date(2025, 8, 1): {'morning': Orcutt_2025-08-01_morning(0..1),\n",
       "  'afternoon': Orcutt_2025-08-01_afternoon(0..1)}}"
      ]
     },
     "execution_count": 11,
     "metadata": {},
     "output_type": "execute_result"
    }
   ],
   "source": [
    "# For each possible clinic session in August 2025, there's a binary decision variable (0 or 1) that will be solved by the model\n",
    "shift_vars['Orcutt']"
   ]
  },
  {
   "cell_type": "markdown",
   "id": "434e414e-cfae-4c62-bc41-2c98cc43afb0",
   "metadata": {},
   "source": [
    "**With our model initialized, we'll now add the necessary constraints.**"
   ]
  },
  {
   "cell_type": "code",
   "execution_count": 12,
   "id": "706c30ab-fffb-42d7-b626-7bbb1e6acde7",
   "metadata": {},
   "outputs": [],
   "source": [
    "objective_terms = []"
   ]
  },
  {
   "cell_type": "code",
   "execution_count": 13,
   "id": "bbb7d796-37c2-4ab1-9623-686db7291311",
   "metadata": {},
   "outputs": [],
   "source": [
    "add_leave_constraints(model, shift_vars, leave_df)\n",
    "add_inpatient_block_constraints(model, shift_vars, inpatient_starts_df, inpatient_days_df)\n",
    "add_clinic_count_constraints(model, shift_vars, config['providers'], inpatient_starts_df)\n",
    "add_rdo_constraints(model, shift_vars, leave_df, inpatient_days_df, config['clinic_rules'], config['providers'])\n",
    "add_min_max_staffing_constraints(model, shift_vars, calendar, config['clinic_rules'])"
   ]
  },
  {
   "cell_type": "code",
   "execution_count": 14,
   "id": "2820b729-5738-40cd-9620-a900009e6cb0",
   "metadata": {},
   "outputs": [],
   "source": [
    "objective_terms.extend(add_clinic_count_constraints(model, shift_vars, config['providers'], inpatient_starts_df))"
   ]
  },
  {
   "cell_type": "code",
   "execution_count": 15,
   "id": "f782f35b-74de-4bfe-95c5-eb54dcb77474",
   "metadata": {},
   "outputs": [],
   "source": [
    "if objective_terms:\n",
    "    model.Minimize(sum(objective_terms))"
   ]
  },
  {
   "cell_type": "markdown",
   "id": "ec4e0501-185b-471b-b79b-d67ac1d5850f",
   "metadata": {},
   "source": [
    "**Finally we solve the model and print the output.**"
   ]
  },
  {
   "cell_type": "code",
   "execution_count": 16,
   "id": "78c7ba18-9515-4463-b83f-ff5acee2ca3e",
   "metadata": {},
   "outputs": [],
   "source": [
    "solver = cp_model.CpSolver()\n",
    "\n",
    "# Set random seed for reproducibility\n",
    "solver.parameters.random_seed = 42\n",
    "\n",
    "status = solver.Solve(model)\n",
    "solver_wall_time = solver.wall_time"
   ]
  },
  {
   "cell_type": "code",
   "execution_count": 17,
   "id": "d82d5020-6d36-4acd-9896-3aff3ec0483c",
   "metadata": {},
   "outputs": [
    {
     "name": "stdout",
     "output_type": "stream",
     "text": [
      "Solution found in 0.000015 seconds\n",
      "2025-06-30 Monday morning: staffed by ['Miles', 'Orcutt', 'Stewart', 'Tanay', 'Wadlin']\n",
      "2025-06-30 Monday afternoon: staffed by ['Bornstein', 'Miles', 'Orcutt', 'Tanay', 'Wadlin']\n",
      "2025-07-01 Tuesday morning: staffed by ['Bornstein', 'Mcrae', 'Orcutt', 'Tanay', 'Wadlin']\n",
      "2025-07-01 Tuesday afternoon: staffed by ['Bornstein', 'Mcrae', 'Orcutt', 'Stewart', 'Tanay']\n",
      "2025-07-02 Wednesday morning: staffed by ['Mcrae', 'Orcutt', 'Stewart']\n",
      "2025-07-02 Wednesday afternoon: staffed by ['Bornstein', 'Mcrae', 'Stewart', 'Wadlin']\n",
      "2025-07-03 Thursday afternoon: staffed by ['Mcrae', 'Miles', 'Tanay', 'Wadlin']\n",
      "2025-07-07 Monday morning: staffed by ['Bornstein', 'Mcrae', 'Orcutt']\n",
      "2025-07-07 Monday afternoon: staffed by ['Mcrae', 'Miles', 'Orcutt']\n",
      "2025-07-08 Tuesday morning: staffed by ['Selig', 'Tanay', 'Wadlin']\n",
      "2025-07-08 Tuesday afternoon: staffed by ['Selig', 'Stewart', 'Tanay']\n",
      "2025-07-09 Wednesday morning: staffed by ['Selig', 'Stewart', 'Tanay', 'Wadlin']\n",
      "2025-07-09 Wednesday afternoon: staffed by ['Miles', 'Selig', 'Stewart', 'Tanay']\n",
      "2025-07-10 Thursday afternoon: staffed by ['Miles', 'Tanay', 'Wadlin']\n",
      "2025-07-11 Friday morning: staffed by ['Selig', 'Stewart', 'Wadlin']\n",
      "2025-07-11 Friday afternoon: staffed by ['Bornstein', 'Orcutt', 'Selig', 'Tanay', 'Wadlin']\n",
      "2025-07-14 Monday morning: staffed by ['Orcutt', 'Selig', 'Stewart']\n",
      "2025-07-14 Monday afternoon: staffed by ['Orcutt', 'Selig', 'Stewart']\n",
      "2025-07-15 Tuesday morning: staffed by ['Mcrae', 'Orcutt', 'Tanay', 'Wadlin']\n",
      "2025-07-15 Tuesday afternoon: staffed by ['Mcrae', 'Orcutt', 'Tanay']\n",
      "2025-07-16 Wednesday morning: staffed by ['Selig', 'Tanay', 'Wadlin']\n",
      "2025-07-16 Wednesday afternoon: staffed by ['Mcrae', 'Selig', 'Stewart']\n",
      "2025-07-17 Thursday afternoon: staffed by ['Mcrae', 'Selig', 'Stewart', 'Tanay', 'Wadlin']\n",
      "2025-07-18 Friday morning: staffed by ['Mcrae', 'Tanay', 'Wadlin']\n",
      "2025-07-18 Friday afternoon: staffed by ['Mcrae', 'Selig', 'Tanay', 'Wadlin']\n",
      "2025-07-21 Monday morning: staffed by ['Mcrae', 'Orcutt', 'Selig']\n",
      "2025-07-21 Monday afternoon: staffed by ['Mcrae', 'Orcutt', 'Selig']\n",
      "2025-07-22 Tuesday morning: staffed by ['Bornstein', 'Mcrae', 'Tanay']\n",
      "2025-07-22 Tuesday afternoon: staffed by ['Mcrae', 'Miles', 'Orcutt', 'Tanay']\n",
      "2025-07-23 Wednesday morning: staffed by ['Miles', 'Orcutt', 'Tanay']\n",
      "2025-07-23 Wednesday afternoon: staffed by ['Bornstein', 'Miles', 'Selig', 'Tanay']\n",
      "2025-07-24 Thursday afternoon: staffed by ['Bornstein', 'Mcrae', 'Selig', 'Tanay']\n",
      "2025-07-25 Friday morning: staffed by ['Bornstein', 'Selig', 'Tanay']\n",
      "2025-07-25 Friday afternoon: staffed by ['Mcrae', 'Orcutt', 'Selig']\n",
      "2025-07-28 Monday morning: staffed by ['Mcrae', 'Miles', 'Orcutt', 'Tanay', 'Wadlin']\n",
      "2025-07-28 Monday afternoon: staffed by ['Mcrae', 'Miles', 'Orcutt', 'Tanay', 'Wadlin']\n",
      "2025-07-29 Tuesday morning: staffed by ['Bornstein', 'Selig', 'Stewart', 'Tanay']\n",
      "2025-07-29 Tuesday afternoon: staffed by ['Miles', 'Selig', 'Stewart', 'Tanay']\n",
      "2025-07-30 Wednesday morning: staffed by ['Bornstein', 'Mcrae', 'Tanay', 'Wadlin']\n",
      "2025-07-30 Wednesday afternoon: staffed by ['Mcrae', 'Selig', 'Stewart']\n",
      "2025-07-31 Thursday afternoon: staffed by ['Mcrae', 'Selig', 'Stewart', 'Tanay']\n",
      "2025-08-01 Friday morning: staffed by ['Bornstein', 'Selig', 'Wadlin']\n",
      "2025-08-01 Friday afternoon: staffed by ['Bornstein', 'Orcutt', 'Selig', 'Wadlin']\n",
      "\n",
      "=== Provider Weekly Session Counts ===\n",
      "Provider    Week 27  Week 28  Week 29  Week 30  Week 31  \n",
      "---------------------------------------------------------\n",
      "Bornstein      4         2         0         4         4     \n",
      "Mcrae          5         2         6         6         5     \n",
      "Miles          3         3         0         3         3     \n",
      "Orcutt         5         3         4         5         3     \n",
      "Selig          0         6         6         6         6     \n",
      "Stewart        4         4         4         0         4     \n",
      "Tanay          5         6         6         6         6     \n",
      "Wadlin         5         5         5         0         5     \n"
     ]
    }
   ],
   "source": [
    "from collections import defaultdict\n",
    "clinic_rules = config['clinic_rules']\n",
    "\n",
    "if status in [cp_model.OPTIMAL, cp_model.FEASIBLE]:\n",
    "    print(f\"Solution found in {solver_wall_time/1000:.6f} seconds\") # Convert from ms to seconds\n",
    "    \n",
    "    # Track sessions by provider and week\n",
    "    provider_sessions = defaultdict(lambda: defaultdict(int))\n",
    "    \n",
    "    # Print the schedule and collect session counts\n",
    "    for day in calendar:\n",
    "        day_of_week = day.strftime('%A')\n",
    "        week_key = (day.year, day.isocalendar()[1])\n",
    "        \n",
    "        for session in calendar[day]:\n",
    "            scheduled = [\n",
    "                provider for provider in shift_vars\n",
    "                if day in shift_vars[provider]\n",
    "                and session in shift_vars[provider][day]\n",
    "                and solver.Value(shift_vars[provider][day][session]) == 1\n",
    "            ]\n",
    "            \n",
    "            # Update session counts for each provider\n",
    "            for provider in scheduled:\n",
    "                provider_sessions[provider][week_key] += 1\n",
    "            \n",
    "            print(f\"{day} {day_of_week} {session}: staffed by {scheduled}\")\n",
    "    \n",
    "    # Print session counts per provider per week\n",
    "    print(\"\\n=== Provider Weekly Session Counts ===\")\n",
    "    all_providers = list(config['providers'])\n",
    "    all_weeks = sorted(set(week for provider_weeks in provider_sessions.values() \n",
    "                          for week in provider_weeks))\n",
    "    \n",
    "    # Header row with week numbers\n",
    "    header = \"Provider    \" + \"\".join(f\"Week {week[1]:02d}  \" for week in all_weeks)\n",
    "    print(header)\n",
    "    print(\"-\" * len(header))\n",
    "    \n",
    "    # Print counts for each provider\n",
    "    for provider in all_providers:\n",
    "        row = f\"{provider:<10} \" + \"\".join(\n",
    "            f\"{provider_sessions[provider][week]:^10}\" for week in all_weeks\n",
    "        )\n",
    "        print(row)\n",
    "else:\n",
    "    print(\"No feasible solution found.\")"
   ]
  }
 ],
 "metadata": {
  "kernelspec": {
   "display_name": "Python 3 (ipykernel)",
   "language": "python",
   "name": "python3"
  },
  "language_info": {
   "codemirror_mode": {
    "name": "ipython",
    "version": 3
   },
   "file_extension": ".py",
   "mimetype": "text/x-python",
   "name": "python",
   "nbconvert_exporter": "python",
   "pygments_lexer": "ipython3",
   "version": "3.13.1"
  }
 },
 "nbformat": 4,
 "nbformat_minor": 5
}
