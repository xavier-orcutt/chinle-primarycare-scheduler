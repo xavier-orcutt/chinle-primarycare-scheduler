{
 "cells": [
  {
   "cell_type": "code",
   "execution_count": 14,
   "id": "08e5940d-1cc3-4eab-a6a2-2597933aca8a",
   "metadata": {},
   "outputs": [],
   "source": [
    "from ortools.sat.python import cp_model\n",
    "from datetime import date"
   ]
  },
  {
   "cell_type": "code",
   "execution_count": 15,
   "id": "fe33d30d-e3cb-4bc2-8177-f8a805db13b3",
   "metadata": {},
   "outputs": [],
   "source": [
    "import sys\n",
    "from pathlib import Path\n",
    "\n",
    "# Add project root (one level up from 'tutorial') to sys.path\n",
    "project_root = Path.cwd().parent\n",
    "if str(project_root) not in sys.path:\n",
    "    sys.path.insert(0, str(project_root))"
   ]
  },
  {
   "cell_type": "code",
   "execution_count": 17,
   "id": "8ea169af-23c1-48f1-8647-999d3b773857",
   "metadata": {},
   "outputs": [],
   "source": [
    "from constraints.internal_medicine import create_shift_variables"
   ]
  },
  {
   "cell_type": "code",
   "execution_count": 18,
   "id": "bebdb061-4ea3-40bd-8f20-9897dcd8411c",
   "metadata": {},
   "outputs": [
    {
     "name": "stdout",
     "output_type": "stream",
     "text": [
      "Orcutt → 2025-01-06 (morning): Orcutt_2025-01-06_morning\n",
      "Orcutt → 2025-01-06 (afternoon): Orcutt_2025-01-06_afternoon\n",
      "Orcutt → 2025-01-07 (morning): Orcutt_2025-01-07_morning\n",
      "Miles → 2025-01-06 (morning): Miles_2025-01-06_morning\n",
      "Miles → 2025-01-06 (afternoon): Miles_2025-01-06_afternoon\n",
      "Miles → 2025-01-07 (morning): Miles_2025-01-07_morning\n"
     ]
    }
   ],
   "source": [
    "# Sample inputs\n",
    "model = cp_model.CpModel()\n",
    "providers = [\"Orcutt\", \"Miles\"]\n",
    "\n",
    "# Pretend this came from generate_clinic_calendar()\n",
    "calendar = {\n",
    "    date(2025, 1, 6): [\"morning\", \"afternoon\"],  # Monday\n",
    "    date(2025, 1, 7): [\"morning\"],              # Tuesday\n",
    "}\n",
    "\n",
    "# Call the function\n",
    "shift_vars = create_shift_variables(model, providers, calendar)\n",
    "\n",
    "# Explore output\n",
    "for provider in shift_vars:\n",
    "    for day in shift_vars[provider]:\n",
    "        for session in shift_vars[provider][day]:\n",
    "            var = shift_vars[provider][day][session]\n",
    "            print(f\"{provider} → {day} ({session}): {var.Name()}\")\n"
   ]
  },
  {
   "cell_type": "code",
   "execution_count": 19,
   "id": "7f319df3-c348-4d33-8686-bea5fe7c4520",
   "metadata": {},
   "outputs": [
    {
     "data": {
      "text/plain": [
       "{'Orcutt': {datetime.date(2025, 1, 6): {'morning': Orcutt_2025-01-06_morning(0..1),\n",
       "   'afternoon': Orcutt_2025-01-06_afternoon(0..1)},\n",
       "  datetime.date(2025, 1, 7): {'morning': Orcutt_2025-01-07_morning(0..1)}},\n",
       " 'Miles': {datetime.date(2025, 1, 6): {'morning': Miles_2025-01-06_morning(0..1),\n",
       "   'afternoon': Miles_2025-01-06_afternoon(0..1)},\n",
       "  datetime.date(2025, 1, 7): {'morning': Miles_2025-01-07_morning(0..1)}}}"
      ]
     },
     "execution_count": 19,
     "metadata": {},
     "output_type": "execute_result"
    }
   ],
   "source": [
    "shift_vars"
   ]
  },
  {
   "cell_type": "code",
   "execution_count": null,
   "id": "03069371-a0a9-4772-9f16-8b064a8b5b15",
   "metadata": {},
   "outputs": [],
   "source": []
  }
 ],
 "metadata": {
  "kernelspec": {
   "display_name": "Python 3 (ipykernel)",
   "language": "python",
   "name": "python3"
  },
  "language_info": {
   "codemirror_mode": {
    "name": "ipython",
    "version": 3
   },
   "file_extension": ".py",
   "mimetype": "text/x-python",
   "name": "python",
   "nbconvert_exporter": "python",
   "pygments_lexer": "ipython3",
   "version": "3.13.1"
  }
 },
 "nbformat": 4,
 "nbformat_minor": 5
}
