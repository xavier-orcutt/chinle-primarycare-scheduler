{
 "cells": [
  {
   "cell_type": "code",
   "execution_count": 1,
   "id": "ad63502b-2a6e-4af4-b229-5a96fbd1d68f",
   "metadata": {},
   "outputs": [],
   "source": [
    "import pandas as pd\n",
    "import yaml\n",
    "from pathlib import Path\n",
    "from datetime import timedelta"
   ]
  },
  {
   "cell_type": "code",
   "execution_count": 11,
   "id": "adc9adaf-4ed8-4ee7-a7fe-ca7eaa7b5bde",
   "metadata": {},
   "outputs": [],
   "source": [
    "# Read YAML file and parse into Python dictionary \n",
    "def load_yaml_config(yml_path):\n",
    "    with open(Path(yml_path), \"r\") as f:\n",
    "        config = yaml.safe_load(f)\n",
    "    return config\n",
    "\n",
    "# Load a CSV and filter to internal medicine providers\n",
    "def load_and_filter_csv(csv_path, provider_list):\n",
    "    df = pd.read_csv(Path(csv_path))\n",
    "    \n",
    "    # Convert to date time\n",
    "    df['date'] = pd.to_datetime(df['date'])\n",
    "    \n",
    "    # Filter for internal medicine providers \n",
    "    df = df[df['provider'].isin(provider_list)].copy()\n",
    "    return df\n",
    "\n",
    "# Add desired number of inpatient days\n",
    "def expand_inpatient(inpatient_df, length):\n",
    "    expanded = []\n",
    "    for _, row in inpatient_df.iterrows():\n",
    "        start = row['date']\n",
    "        for i in range(length):\n",
    "            expanded.append({\n",
    "                'provider': row['provider'],\n",
    "                'date': start + timedelta(days = i),\n",
    "                'type': 'inpatient',\n",
    "            })\n",
    "    return pd.DataFrame(expanded)\n",
    "\n",
    "# Main function to parse all inputs\n",
    "def parse_inputs(yml_path, inpatient_csv_path, leave_request_csv_path):\n",
    "    config = load_yaml_config(yml_path)\n",
    "    providers = list(config['providers'].keys())\n",
    "    \n",
    "    # Defaults to 7\n",
    "    inpatient_length = (\n",
    "        config.get('clinic_rules', {})\n",
    "              .get('inpatient_schedule', {})\n",
    "              .get('inpatient_length', 7)\n",
    "    )\n",
    "\n",
    "    inpatient_df = load_and_filter_csv(inpatient_csv_path, providers)\n",
    "    leave_df = load_and_filter_csv(leave_request_csv_path, providers)\n",
    "\n",
    "    inpatient_expanded = expand_inpatient(inpatient_df, inpatient_length)\n",
    "\n",
    "    return config, inpatient_expanded, leave_df"
   ]
  },
  {
   "cell_type": "code",
   "execution_count": 12,
   "id": "8b7ef411-a062-46d7-96b8-a9d6dd668c4b",
   "metadata": {},
   "outputs": [
    {
     "data": {
      "text/plain": [
       "({'clinic_rules': {'clinic_days': ['Monday',\n",
       "    'Tuesday',\n",
       "    'Wednesday',\n",
       "    'Thursday',\n",
       "    'Friday'],\n",
       "   'clinic_sessions': {'Monday': ['morning', 'afternoon'],\n",
       "    'Tuesday': ['morning', 'afternoon'],\n",
       "    'Wednesday': ['morning', 'afternoon'],\n",
       "    'Thursday': ['afternoon'],\n",
       "    'Friday': ['morning', 'afternoon']},\n",
       "   'random_day_off': {'enabled': True,\n",
       "    'eligible_days': ['Monday', 'Tuesday', 'Wednesday', 'Friday'],\n",
       "    'substitute_if_holiday': True,\n",
       "    'substitute_if_leave': True,\n",
       "    'override_roles': ['NP', 'PA']},\n",
       "   'holiday_week_rdo_followup': {'enabled': True,\n",
       "    'day_options': ['Monday', 'Friday'],\n",
       "    'applies_to_roles': ['MD', 'DO']},\n",
       "   'inpatient_schedule': {'inpatient_length': 7,\n",
       "    'inpatient_starts_on': 'Tuesday',\n",
       "    'inpatient_ends_on': 'Monday',\n",
       "    'pre_inpatient_rdo': 'Monday',\n",
       "    'post_inpatient_rdo': 'Friday'},\n",
       "   'staffing': {'min_providers_per_session': 1,\n",
       "    'max_providers_per_session': 4},\n",
       "   'holiday_dates': [datetime.date(2025, 1, 1),\n",
       "    datetime.date(2025, 1, 20),\n",
       "    datetime.date(2025, 2, 17),\n",
       "    datetime.date(2025, 5, 26),\n",
       "    datetime.date(2025, 7, 4),\n",
       "    datetime.date(2025, 9, 1),\n",
       "    datetime.date(2025, 11, 11),\n",
       "    datetime.date(2025, 11, 27),\n",
       "    datetime.date(2025, 12, 25)],\n",
       "   'clinic_intensity_limit': {'enabled': True,\n",
       "    'enforce_ratio_on_short_weeks': True}},\n",
       "  'providers': {'Bornstein': {'role': 'MD', 'max_clinics_per_week': 4},\n",
       "   'Mccrae': {'role': 'PA', 'max_clinics_per_week': 6},\n",
       "   'Miles': {'role': 'MD', 'max_clinics_per_week': 3},\n",
       "   'Orcutt': {'role': 'MD', 'max_clinics_per_week': 5},\n",
       "   'Selig': {'role': 'NP', 'max_clinics_per_week': 6},\n",
       "   'Stewart': {'role': 'MD', 'max_clinics_per_week': 4},\n",
       "   'Tanay': {'role': 'NP', 'max_clinics_per_week': 6},\n",
       "   'Wadlin': {'role': 'MD', 'max_clinics_per_week': 4}}},\n",
       "   provider       date       type\n",
       " 0   Orcutt 2025-06-02  inpatient\n",
       " 1   Orcutt 2025-06-03  inpatient\n",
       " 2   Orcutt 2025-06-04  inpatient\n",
       " 3   Orcutt 2025-06-05  inpatient\n",
       " 4   Orcutt 2025-06-06  inpatient\n",
       " 5   Orcutt 2025-06-07  inpatient\n",
       " 6   Orcutt 2025-06-08  inpatient,\n",
       "    provider       date  rank   type\n",
       " 0   Stewart 2025-06-02     1  leave\n",
       " 1   Stewart 2025-06-03     1  leave\n",
       " 2   Stewart 2025-06-04     1  leave\n",
       " 3   Stewart 2025-06-05     1  leave\n",
       " 4   Stewart 2025-06-06     1  leave\n",
       " 5     Tanay 2025-06-02     2  leave\n",
       " 6     Tanay 2025-06-03     2  leave\n",
       " 7     Tanay 2025-06-04     2  leave\n",
       " 8     Tanay 2025-06-05     2  leave\n",
       " 9     Tanay 2025-06-06     2  leave\n",
       " 10    Miles 2025-06-02     3  leave)"
      ]
     },
     "execution_count": 12,
     "metadata": {},
     "output_type": "execute_result"
    }
   ],
   "source": [
    "parse_inputs('../config/internal_medicine.yml',\n",
    "             '../data/inpatient.csv', \n",
    "             '../data/leave_requests.csv')"
   ]
  },
  {
   "cell_type": "code",
   "execution_count": 7,
   "id": "b544c28e-36f2-4c74-a39e-f89e841388b6",
   "metadata": {},
   "outputs": [],
   "source": [
    "yml_dic = load_yaml_config('../config/internal_medicine.yml')"
   ]
  },
  {
   "cell_type": "code",
   "execution_count": null,
   "id": "2d56b87a-911d-427f-901d-eca20e0ad40d",
   "metadata": {},
   "outputs": [],
   "source": [
    "clinic_section = config.get('clinic_rules', config.get('clinic', {}))\n",
    "    inpatient_length = clinic_section.get('inpatient_schedule', {}).get('inpatient_length', 7)\n"
   ]
  },
  {
   "cell_type": "code",
   "execution_count": 10,
   "id": "88a278d3-6b80-4b40-91fe-0cc377ffa0c0",
   "metadata": {},
   "outputs": [
    {
     "data": {
      "text/plain": [
       "7"
      ]
     },
     "execution_count": 10,
     "metadata": {},
     "output_type": "execute_result"
    }
   ],
   "source": [
    "yml_dic.get('clinic_rules').get('inpatient_schedule', {}).get('inpatient_length', 7)"
   ]
  },
  {
   "cell_type": "code",
   "execution_count": null,
   "id": "b6264f27-f08e-4200-a0d2-aca72cfd382e",
   "metadata": {},
   "outputs": [],
   "source": []
  }
 ],
 "metadata": {
  "kernelspec": {
   "display_name": "Python 3 (ipykernel)",
   "language": "python",
   "name": "python3"
  },
  "language_info": {
   "codemirror_mode": {
    "name": "ipython",
    "version": 3
   },
   "file_extension": ".py",
   "mimetype": "text/x-python",
   "name": "python",
   "nbconvert_exporter": "python",
   "pygments_lexer": "ipython3",
   "version": "3.13.1"
  }
 },
 "nbformat": 4,
 "nbformat_minor": 5
}
